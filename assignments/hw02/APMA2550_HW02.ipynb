{
 "cells": [
  {
   "cell_type": "markdown",
   "id": "5e8300c9",
   "metadata": {},
   "source": [
    "# Homework 2\n",
    "\n",
    "In the following problems we will consider the heat equation\n",
    "\n",
    "$$\n",
    "\\begin{align}\n",
    "u_t(x,t)=&u_{xx}(x,t)   \\quad  &&  -\\infty < x< \\infty , t>0 \\\\\n",
    "u(x,0)=&f(x)  \\quad &&  -\\infty < x< \\infty \n",
    "\\end{align}\n",
    "$$\n",
    "\n",
    "where $f$ is $2\\pi$ periodic"
   ]
  },
  {
   "cell_type": "markdown",
   "id": "b60e926c",
   "metadata": {},
   "source": [
    "## Problem 1\n",
    "\n",
    "Let $u$ be the solution to the heat equation above. What function does $u(x,t)$ approach as $t$ tends towards infinity? Prove it.\n",
    "\n",
    "---"
   ]
  },
  {
   "cell_type": "markdown",
   "id": "043bdf36",
   "metadata": {},
   "source": [
    "As $t \\rightarrow \\infty$ then $u(x,t) \\rightarrow \\frac{1}{2\\pi}\\int_0^{2\\pi} f(x) dx$.\n",
    "\n",
    "\n",
    "Proof:\n",
    "\n",
    "Let \n",
    "\n",
    "$$\n",
    "u(x,t) = \\frac{1}{\\sqrt{2\\pi}} \\sum_{\\omega=-\\infty}^\\infty \\hat u(\\omega, t) e^{i\\omega x} \\qquad s.t. \\qquad \\hat u(\\omega, t) = \\frac{1}{\\sqrt{2\\pi}} \\int_0^{2\\pi} e^{-i\\omega x} u(x, t) dx\n",
    "$$\n",
    "\n",
    "When we take a derivative with respect to $t$, we get:\n",
    "\n",
    "$$\n",
    "\\begin{align}\n",
    "u_t(x, t) &= \\frac{d}{dt} \\frac{1}{\\sqrt{2\\pi}} \\sum_{\\omega=-\\infty}^\\infty \\hat u(\\omega, t) e^{i\\omega x}\\\\\n",
    "&= \\frac{1}{\\sqrt{2\\pi}} \\sum_{\\omega=-\\infty}^\\infty \\hat u_t(\\omega, t) e^{i\\omega x}\\\\\n",
    "\\end{align}\n",
    "$$\n",
    "\n",
    "where \n",
    "\n",
    "$$\n",
    "\\hat u_t(\\omega, t) = \\frac{1}{\\sqrt{2\\pi}} \\int_0^{2\\pi} e^{-i\\omega x} u_t(x, t) dx \n",
    "$$\n",
    "\n",
    "When we take the second derivative with respect to $x$, we get:\n",
    "\n",
    "$$\n",
    "\\begin{align}\n",
    "u_{xx}(x, t) &= \\frac{d^2}{dx^2} \\frac{1}{\\sqrt{2\\pi}} \\sum_{\\omega =-\\infty}^\\infty \\hat u(\\omega, t) e^{i\\omega x}\\\\\n",
    "&= \\frac{1}{\\sqrt{2\\pi}} \\sum_{\\omega=-\\infty}^\\infty \\hat u(\\omega, t) \\frac{d^2}{dx^2} e^{i\\omega x}\\\\\n",
    "&= \\frac{1}{\\sqrt{2\\pi}} \\sum_{\\omega=-\\infty}^\\infty \\hat u(\\omega, t) (i\\omega)^2 e^{i\\omega x}\\\\\n",
    "u_{xx}(x, t) &= \\frac{1}{\\sqrt{2\\pi}} \\sum_{\\omega=-\\infty}^\\infty \\hat u(\\omega, t) (-\\omega^2) e^{i\\omega x}\n",
    "\\end{align}\n",
    "$$\n",
    "\n",
    "Solving, we can find the form of each coeffient of the solution:\n",
    "\n",
    "$$\n",
    "\\begin{align}\n",
    "u_t(x, t) &= u_{xx}(x, t)\\\\\n",
    "\\frac{1}{\\sqrt{2\\pi}} \\sum_{\\omega=-\\infty}^\\infty \\hat u_t(\\omega, t) e^{i\\omega x} &= \\frac{1}{\\sqrt{2\\pi}} \\sum_{\\omega=-\\infty}^\\infty \\hat u(\\omega, t) (-\\omega^2) e^{i\\omega x}\\\\\n",
    "\\hat u_t(\\omega, t) &= (-\\omega^2) \\hat u(\\omega, t)\\\\\n",
    "\\hat u(\\omega, t) &= \\hat u(\\omega, 0) e^{-\\omega^2 t}\n",
    "\\end{align}\n",
    "$$\n",
    "\n",
    "Therefore, the entire function is of the form:\n",
    "\n",
    "$$\n",
    "u(x, t) = \\frac{1}{\\sqrt{2 \\pi}} \\sum_{\\omega =-\\infty}^\\infty \\hat u(\\omega, 0) e^{-\\omega^2 t} e^{i\\omega x}\n",
    "$$\n",
    "\n",
    "Let $t \\rightarrow \\infty$\n",
    "\n",
    "$$\n",
    "\\begin{align}\n",
    "\\lim\\limits_{t \\rightarrow \\infty} u(x, t) &= \\lim\\limits_{t \\rightarrow \\infty} \\frac{1}{\\sqrt{2 \\pi}} \\sum_{\\omega =-\\infty}^\\infty \\hat u(\\omega, 0) e^{-\\omega^2 t} e^{i\\omega x}\\\\\n",
    "&= \\lim\\limits_{t \\rightarrow \\infty} \\frac{1}{\\sqrt{2 \\pi}} \\sum_{\\omega =-\\infty}^\\infty \\frac{1}{\\sqrt{2\\pi}} \\int_0^{2\\pi} e^{-i\\omega x} u(x, 0) dx e^{-\\omega^2 t} e^{i\\omega x}\\\\\n",
    "&= \\lim\\limits_{t \\rightarrow \\infty} \\frac{1}{2 \\pi} \\sum_{\\omega =-\\infty}^\\infty \\int_0^{2\\pi} e^{-i\\omega x} f(x) dx \\cdot e^{i\\omega x} e^{-\\omega^2 t}\\\\\n",
    "&= \\frac{1}{2 \\pi} \\sum_{\\omega =-\\infty}^\\infty \\int_0^{2\\pi} e^{-i\\omega x} f(x) dx \\cdot e^{i\\omega x} \\lim\\limits_{t \\rightarrow \\infty} e^{-\\omega^2 t}\\\\\n",
    "\\end{align}\n",
    "$$\n",
    "\n",
    "If $\\omega = 0$, then \n",
    "\n",
    "$$\n",
    "\\int_0^{2\\pi} e^{-i\\omega x} f(x) dx \\cdot e^{i\\omega x} \\lim\\limits_{t \\rightarrow \\infty} e^{-\\omega^2 t} = \\int_0^{2\\pi} e^{0} f(x) dx \\cdot e^{0} \\lim\\limits_{t \\rightarrow \\infty} e^{0} = \\int_0^{2\\pi} f(x) dx\\\\\n",
    "$$\n",
    "\n",
    "Otherwise, if $\\omega \\ne 0$, then $\\lim\\limits_{t \\rightarrow \\infty} e^{-\\omega^2 t} = 0$\n",
    "\n",
    "$$\n",
    "\\int_0^{2\\pi} e^{-i\\omega x} f(x) dx \\cdot e^{i\\omega x} \\lim\\limits_{t \\rightarrow \\infty} e^{-\\omega^2 t} = \\int_0^{2\\pi} e^{-i\\omega x} f(x) dx \\cdot e^{i\\omega x} 0 = 0\\\\\n",
    "$$\n",
    "\n",
    "Thus\n",
    "\n",
    "$$\n",
    "\\lim\\limits_{t \\rightarrow \\infty} u(x, t) = \\frac{1}{2 \\pi} \\sum_{\\omega =-\\infty}^\\infty \\int_0^{2\\pi} e^{-i\\omega x} f(x) dx \\cdot e^{i\\omega x} \\lim\\limits_{t \\rightarrow \\infty} e^{-\\omega^2 t} = \\frac{1}{2\\pi} \\int_0^{2\\pi} f(x) dx\n",
    "$$"
   ]
  },
  {
   "cell_type": "markdown",
   "id": "57c03a6c",
   "metadata": {},
   "source": [
    "## Problem 2\n",
    "\n",
    "Prove that $\\left|\\frac{d^k u(\\cdot, t)}{d x^k}\\right|$ is bounded for any $k$ and any $t > 0$.\n",
    "\n",
    "---\n",
    "\n",
    "In the previous problem, we showed that the solution to the heat equation is of the following form:\n",
    "\n",
    "$$\n",
    "u(x, t) = \\frac{1}{\\sqrt{2 \\pi}} \\sum_{\\omega =-\\infty}^\\infty \\hat f(\\omega) e^{-\\omega^2 t} e^{i\\omega x} \\qquad s.t. \\qquad \\hat f(\\omega) = \\frac{1}{\\sqrt{2 \\pi}} \\int_0^{2\\pi} e^{-i\\omega x} f(x) dx\n",
    "$$\n",
    "\n",
    "thus\n",
    "\n",
    "$$\n",
    "\\begin{align}\n",
    "\\left| \\frac{d^k}{dx^k} u(x, t) \\right| &= \\left| \\frac{d^k}{dx^k} \\frac{1}{\\sqrt{2 \\pi}} \\sum_{\\omega =-\\infty}^\\infty \\hat f(\\omega) e^{-\\omega^2 t} e^{i\\omega x} \\right|\\\\\n",
    "&= \\left| \\frac{1}{\\sqrt{2 \\pi}} \\sum_{\\omega =-\\infty}^\\infty \\hat f(\\omega) e^{-\\omega^2 t} (i\\omega)^k e^{i\\omega x} \\right|\\\\\n",
    "&= \\left| \\frac{e^{-\\omega^2 t}}{\\sqrt{2 \\pi}} \\sum_{\\omega =-\\infty}^\\infty \\hat f(\\omega) (i\\omega)^k e^{i\\omega x} \\right|\\\\\n",
    "&= |e^{-\\omega^2 t}|\\left| \\frac{1}{\\sqrt{2 \\pi}} \\sum_{\\omega =-\\infty}^\\infty \\hat f(\\omega) (i\\omega)^k e^{i\\omega x} \\right|\\\\\n",
    "&\\le \\left| \\frac{1}{\\sqrt{2 \\pi}} \\sum_{\\omega =-\\infty}^\\infty \\hat f(\\omega) (i\\omega)^k e^{i\\omega x} \\right|\\\\\n",
    "&= \\left| \\frac{1}{\\sqrt{2 \\pi}} \\sum_{\\omega =-\\infty}^\\infty \\hat f(\\omega) \\frac{d^k}{dx^k} e^{i\\omega x} \\right|\\\\\n",
    "&= \\left| \\frac{d^k}{dx^k} \\frac{1}{\\sqrt{2 \\pi}} \\sum_{\\omega =-\\infty}^\\infty \\hat f(\\omega) e^{i\\omega x} \\right|\\\\\n",
    "&= \\left| \\frac{d^k}{d x^k} f(x)\\right|\n",
    "\\end{align}\n",
    "$$\n",
    "\n",
    "Thus\n",
    "\n",
    "$$\n",
    "\\left| \\frac{d^k u(\\cdot, t)}{dx^k} \\right| \\le \\left| \\frac{d^k f(\\cdot)}{dx^k} \\right| \\le \\max\\limits_{x \\in [0, 2\\pi)} \\left| \\frac{d^k f(x)}{dx^k} \\right|\n",
    "$$"
   ]
  },
  {
   "cell_type": "markdown",
   "id": "b5ce1d67",
   "metadata": {},
   "source": [
    "## Problem 3\n",
    "\n",
    "Consider the Crank-Nicolson method for the heat equation.\n",
    "\n",
    "$$\n",
    "v_j^{n+1}=v_j^n + \\frac{k}{2} ( D_+ D_{-} v_j^n + D_{+} D_{-} v_j^{n+1})\n",
    "$$\n",
    "\n",
    "or can be written as\n",
    "\n",
    "$$\n",
    "(I- \\frac{k}{2} D_{+} D_{-} ) v_j^{n+1}=(I+ \\frac{k}{2}  D_+ D_{-}) v_j^n\n",
    "$$\n",
    "\n",
    "1. Prove that the method is unconditionally stable.\n",
    "\n",
    "2. bound the truncation error. Is it better than the Euler method?\n",
    "\n",
    "---"
   ]
  },
  {
   "cell_type": "markdown",
   "id": "3acbd476",
   "metadata": {},
   "source": [
    "### Part 1\n",
    "\n",
    "First, we prove that the method is unconditionally stable\n",
    "\n",
    "$$\n",
    "(I- \\frac{k}{2} D_{+} D_{-} ) v_j^{n+1}=(I+ \\frac{k}{2}  D_+ D_{-}) v_j^n\n",
    "$$\n",
    "\n",
    "implies that \n",
    "\n",
    "$$\n",
    "\\begin{align}\n",
    "\\left(e^{i \\omega x_j} - \\frac{k}{2} \\frac{e^{i\\omega x_{j+1}} - 2e^{i\\omega x_j} + e^{i\\omega x_{j-1}}}{h^2}\\right) \\hat v_j^{n+1} &= \\left(e^{i \\omega x_j} + \\frac{k}{2} \\frac{e^{i\\omega x_{j+1}} - 2e^{i\\omega x_j} + e^{i\\omega x_{j-1}}}{h^2}\\right) \\hat v_j^n\\\\\n",
    "e^{i \\omega x_j} \\left(1 - \\frac{k}{2} \\frac{e^{i\\omega h} - 2 + e^{-i\\omega h}}{h^2}\\right) \\hat v_j^{n+1} &= e^{i \\omega x_j} \\left(1 + \\frac{k}{2} \\frac{e^{i\\omega h} - 2 + e^{-i\\omega h}}{h^2}\\right) \\hat v_j^n\\\\\n",
    "\\left(1 - \\frac{k}{2} \\frac{e^{i\\omega h} - 2 + e^{-i\\omega h}}{h^2}\\right) \\hat v_j^{n+1} &= \\left(1 + \\frac{k}{2} \\frac{e^{i\\omega h} - 2 + e^{-i\\omega h}}{h^2}\\right) \\hat v_j^n\\\\\n",
    "\\left(1 - \\frac{k}{2} \\frac{\\cos(\\omega h) + i\\sin(\\omega h) - 2 + \\cos(-\\omega h) + i\\sin(-\\omega h)}{h^2}\\right) \\hat v_j^{n+1} &= \\left(1 + \\frac{k}{2} \\frac{\\cos(\\omega h) + i\\sin(\\omega h) - 2 + \\cos(-\\omega h) + i\\sin(-\\omega h)}{h^2}\\right) \\hat v_j^n\\\\\n",
    "\\left(1 - \\frac{k}{2} \\frac{\\cos(\\omega h) + i\\sin(\\omega h) - 2 + \\cos(\\omega h) - i\\sin(\\omega h)}{h^2}\\right) \\hat v_j^{n+1} &= \\left(1 + \\frac{k}{2} \\frac{\\cos(\\omega h) + i\\sin(\\omega h) - 2 + \\cos(\\omega h) - i\\sin(\\omega h)}{h^2}\\right) \\hat v_j^n\\\\\n",
    "\\left(1 - \\frac{k}{2} \\frac{2\\cos(\\omega h) - 2}{h^2}\\right) \\hat v_j^{n+1} &= \\left(1 + \\frac{k}{2} \\frac{2\\cos(\\omega h) - 2}{h^2}\\right) \\hat v_j^n\\\\\n",
    "\\left(1 - \\frac{k}{h^2} (\\cos(\\omega h) - 1)\\right) \\hat v_j^{n+1} &= \\left(1 + \\frac{k}{h^2} (\\cos(\\omega h) - 1)\\right) \\hat v_j^n\\\\\n",
    "\\hat v_j^{n+1} &= \\frac{1 + \\lambda(\\cos(\\omega h) - 1)}{1 - \\lambda(\\cos(\\omega h) - 1)} \\hat v_j^n\\\\\n",
    "\\hat v_j^{n+1} &= \\hat Q \\hat v_j^n\n",
    "\\end{align}\n",
    "$$\n",
    "\n",
    "where\n",
    "\n",
    "$$\n",
    "\\lambda = \\frac{k}{h^2} \\qquad \\hat Q = \\frac{1 - \\lambda + \\lambda \\cos(\\omega h)}{1 + \\lambda - \\lambda \\cos(\\omega h)}\n",
    "$$\n",
    "\n",
    "Then\n",
    "\n",
    "$$\n",
    "|\\hat Q| = \\left| \\frac{1 + \\lambda(\\cos(\\omega h) - 1)}{1 - \\lambda(\\cos(\\omega h) - 1)} \\right|\n",
    "$$\n",
    "\n",
    "Since $\\lambda > 0$ and $\\cos(\\omega h) \\le 1$, then $\\lambda(\\cos(\\omega h) - 1) \\le 0$ and thus $-\\lambda(\\cos(\\omega h)) \\ge 0$. Thus\n",
    "\n",
    "$$\n",
    "|\\hat Q| = \\left| \\frac{1 - a}{1 + a} \\right| \\qquad s.t. \\qquad a = -\\lambda(\\cos(\\omega h) - 1) \\ge 0\n",
    "$$\n",
    "\n",
    "Since $0 \\le |1 - a| \\le |1 + a|$, then\n",
    "\n",
    "$$\n",
    "|\\hat Q| = \\left| \\frac{1 - a}{1 + a} \\right| \\le 1\n",
    "$$\n",
    "\n",
    "Therefore, the method is unconditionally stable.\n",
    "\n",
    "---"
   ]
  },
  {
   "cell_type": "markdown",
   "id": "42f3af57",
   "metadata": {},
   "source": [
    "### Part 2\n",
    "\n",
    "Now, we bound the truncation error of the method. Recall that:\n",
    "\n",
    "$$\n",
    "u(x + h) = u(x) + h \\partial_x u(x) + \\frac{h^2}{2}\\partial^2_x u(x) + \\frac{h^3}{6}\\partial_x^3 u(x) + ...\\\\\n",
    "u(x - h) = u(x) - h \\partial_x u(x) + \\frac{h^2}{2}\\partial^2_x u(x) - \\frac{h^3}{6}\\partial_x^3 u(x) + ...\\\\\n",
    "$$\n",
    "\n",
    "and thus\n",
    "\n",
    "$$\n",
    "\\begin{align}\n",
    "D_0 u_j &= \\partial_x u(x_j) + \\frac{h^2}{6} + ...\\\\\n",
    "D_+ D_- u_j &= \\partial_x^2 u(x_j) + 2h^2 \\partial_x^4 u(x_j) + ...\\\\\n",
    "\\frac{u^{n+1} - u^n}{k} &= \\partial_t u(t_n) + \\frac{k}{2} \\partial_t^2 u(t_n) + \\frac{k^2}{6}\\partial_t^3 u(t_n)+ ...\n",
    "\\end{align}\n",
    "$$\n",
    "\n",
    "Now we can evaluate:\n",
    "\n",
    "$$\n",
    "\\begin{align}\n",
    "v_j^{n+1}&=v_j^n + \\frac{k}{2} ( D_+ D_{-} v_j^n + D_{+} D_{-} v_j^{n+1}) + \\tau_j^n\\\\\n",
    "\\frac{v_j^{n+1} - v_j^n}{k} &= \\frac{1}{2} ( D_+ D_{-} v_j^n + D_{+} D_{-} v_j^{n+1}) + \\tau_j^n\\\\\n",
    "\\frac{v_j^{n+1} - v_j^n}{k} - \\frac{1}{2} ( D_+ D_{-} v_j^n + D_{+} D_{-} v_j^{n+1}) &= \\tau_j^n\\\\\n",
    "\\end{align}\n",
    "$$"
   ]
  },
  {
   "cell_type": "markdown",
   "id": "36480a24",
   "metadata": {},
   "source": [
    "## Problem 4\n",
    "\n",
    "Write a computer code for the Backward Euler method, Crank-Nicolson method, the forward Euler method and the Dufort-Frankel method. Choose initial condition to be $f(x)= x-\\pi$.  Your are going to run your four codes by fixing $k/h\\approx 1/3$ , then $k/h^{3/2} \\approx 1/3$ and finally $k/h^2 \\approx 1/3$.   First take $h=1/500$ and run the Crank-Nicolson method with $k/h^2\\approx  1/3$. Call this approximation the \"true solution\" (although you know it  is not exact). Now compare for all the four methods run them with $h=1/100$ and the different combinations of $k/h^s$ up to time $T=2$. Now compare the error at time $T=2$ of these approximations to the \"true solution\"."
   ]
  },
  {
   "cell_type": "code",
   "execution_count": 166,
   "id": "8e4cb389",
   "metadata": {},
   "outputs": [],
   "source": [
    "import numpy as np\n",
    "import matplotlib.pyplot as plt"
   ]
  },
  {
   "cell_type": "code",
   "execution_count": 167,
   "id": "9d85ed7d",
   "metadata": {},
   "outputs": [],
   "source": [
    "def forward_diff(u, h):\n",
    "    return (np.roll(u, 1) - u) / h\n",
    "\n",
    "def backward_diff(u, h):\n",
    "    return (u - np.roll(u, -1)) / h\n",
    "\n",
    "def center_diff(u, h):\n",
    "    return (np.roll(u, 1) - np.roll(u, -1)) / (2 * h)\n",
    "\n",
    "def double_diff(u, h):\n",
    "    return (np.roll(u, 1) - (2*u) + np.roll(u, -1)) / h**2"
   ]
  },
  {
   "cell_type": "code",
   "execution_count": 168,
   "id": "eb062d7a",
   "metadata": {},
   "outputs": [],
   "source": [
    "def backward_euler(h, x_start, x_end, k, t_start, t_end, f):\n",
    "    N = int(round(x_end - x_start) / h)\n",
    "    M = int(round(t_end - t_start) / k)\n",
    "    \n",
    "    x = np.linspace(x_start, x_end, N + 1)\n",
    "    \n",
    "    u = np.zeros((1, N + 1))\n",
    "    u[0] = f(x)\n",
    "    \n",
    "    s = k / h**2\n",
    "    \n",
    "    a = np.roll(-s * np.identity(N + 1), -1, 1) + ((1 + (2 * s)) * np.identity(N + 1)) + np.roll(-s * np.identity(N + 1), 1, 1)\n",
    "    _a = np.linalg.inv(a)\n",
    "    \n",
    "    for n in range(M):\n",
    "        print(f\"\\r{n}/{M}\", end=\"\")\n",
    "        u[0] = _a.T @ u[0]\n",
    "        \n",
    "    return u"
   ]
  },
  {
   "cell_type": "code",
   "execution_count": 169,
   "id": "2dd63182",
   "metadata": {},
   "outputs": [],
   "source": [
    "def crank_nicolson(h, x_start, x_end, k, t_start, t_end, f):\n",
    "    N = int(round(x_end - x_start) / h)\n",
    "    M = int(round(t_end - t_start) / k)\n",
    "    \n",
    "    x = np.linspace(x_start, x_end, N + 1)\n",
    "    \n",
    "    u = np.zeros((1, N + 1))\n",
    "    u[0] = f(x)\n",
    "    \n",
    "    a = np.roll((-k / h**2) * np.identity(N + 1), -1, 1) + (2 + (2 * k / h**2)) * np.identity(N + 1) + np.roll((-k / h**2) * np.identity(N + 1), -1, 1)\n",
    "    b = np.roll((k / h**2) * np.identity(N + 1), -1, 1) + (2 - (2 * k / h**2)) * np.identity(N + 1) + np.roll((k / h**2) * np.identity(N + 1), -1, 1)\n",
    "    \n",
    "    c = np.linalg.inv(a) @ b\n",
    "    \n",
    "    for n in range(M):\n",
    "        print(f\"\\r{n}/{M}\", end=\"\")\n",
    "        u[0] = c.T @ u[0]\n",
    "        \n",
    "    return u"
   ]
  },
  {
   "cell_type": "code",
   "execution_count": 170,
   "id": "7fdbd5d2",
   "metadata": {},
   "outputs": [],
   "source": [
    "def forward_euler(h, x_start, x_end, k, t_start, t_end, f):\n",
    "    N = int(round(x_end - x_start) / h)\n",
    "    M = int(round(t_end - t_start) / k)\n",
    "    \n",
    "    x = np.linspace(x_start, x_end, N + 1)\n",
    "    \n",
    "    u = np.zeros((1, N + 1))\n",
    "    u[0] = f(x)\n",
    "    \n",
    "    for n in range(M):\n",
    "        print(f\"\\r{n}/{M}\", end=\"\")\n",
    "        u[0] = u[0] + (k * double_diff(u, h))\n",
    "        \n",
    "    return u"
   ]
  },
  {
   "cell_type": "code",
   "execution_count": 171,
   "id": "01cd8c07",
   "metadata": {},
   "outputs": [],
   "source": [
    "def dufort_frankel(h, x_start, x_end, k, t_start, t_end, f):\n",
    "    N = int(round(x_end - x_start) / h)\n",
    "    M = int(round(t_end - t_start) / k)\n",
    "    \n",
    "    x = np.linspace(x_start, x_end, N + 1)\n",
    "    \n",
    "    u = np.zeros((2, N + 1))\n",
    "    u[0] = f(x)\n",
    "    u[1] = u[0] + (k * double_diff(u[0], h))\n",
    "    \n",
    "    for n in range(1, M):\n",
    "        print(f\"\\r{n}/{M}\", end=\"\")\n",
    "        u[1], u[0] = u[0] + (2 * k * double_diff(u[1], h)), u[1]\n",
    "        \n",
    "    return u"
   ]
  },
  {
   "cell_type": "code",
   "execution_count": 172,
   "id": "5d0a8672",
   "metadata": {},
   "outputs": [],
   "source": [
    "def f(x):\n",
    "    return x - np.pi"
   ]
  },
  {
   "cell_type": "code",
   "execution_count": 173,
   "id": "74deedae",
   "metadata": {},
   "outputs": [],
   "source": [
    "h = 1/500\n",
    "x_start = 0\n",
    "x_end = 2 * np.pi\n",
    "N = int(round(x_end - x_start)/h)\n",
    "\n",
    "k = (h**2) /3 # thus k/h^2=1/3\n",
    "t_start = 0\n",
    "t_end = 2\n",
    "\n",
    "true_x = np.linspace(x_start, x_end, N + 1) "
   ]
  },
  {
   "cell_type": "code",
   "execution_count": null,
   "id": "244df1f4",
   "metadata": {},
   "outputs": [
    {
     "name": "stdout",
     "output_type": "stream",
     "text": [
      "41170/1500000"
     ]
    }
   ],
   "source": [
    "true_sol = crank_nicolson(h, x_start, x_end, k, t_start, t_end, f)"
   ]
  },
  {
   "cell_type": "code",
   "execution_count": null,
   "id": "30d870c0",
   "metadata": {},
   "outputs": [],
   "source": [
    "h = 1/100\n",
    "x_start = 0\n",
    "x_end = 2 * np.pi\n",
    "N = int(round(x_end - x_start)/h)\n",
    "\n",
    "k = h /3 # thus k/h=1/3\n",
    "t_start = 0\n",
    "t_end = 2\n",
    "\n",
    "x = np.linspace(x_start, x_end, N + 1)"
   ]
  },
  {
   "cell_type": "code",
   "execution_count": 140,
   "id": "c35a2670",
   "metadata": {},
   "outputs": [
    {
     "data": {
      "image/png": "[encoded data removed]",
      "text/plain": [
       "<Figure size 432x288 with 1 Axes>"
      ]
     },
     "metadata": {
      "needs_background": "light"
     },
     "output_type": "display_data"
    }
   ],
   "source": [
    "fig, ax = plt.subplots()\n",
    "ax.plot(true_x, true_sol[-1], label=\"true value\")\n",
    "ax.plot(x, backward_euler(h, x_start, x_end, k, t_start, t_end, f)[-1], label=\"numerical\")\n",
    "ax.set_title('Backward Euler Method: k/h=1/3')\n",
    "ax.set_xlabel('x')\n",
    "ax.set_ylabel('u(x, 2)')\n",
    "ax.legend()\n",
    "plt.show()"
   ]
  },
  {
   "cell_type": "code",
   "execution_count": 141,
   "id": "0393175c",
   "metadata": {},
   "outputs": [
    {
     "data": {
      "image/png": "[encoded data removed]",
      "text/plain": [
       "<Figure size 432x288 with 1 Axes>"
      ]
     },
     "metadata": {
      "needs_background": "light"
     },
     "output_type": "display_data"
    }
   ],
   "source": [
    "fig, ax = plt.subplots()\n",
    "ax.plot(true_x, true_sol[-1], label=\"true value\")\n",
    "ax.plot(x, crank_nicolson(h, x_start, x_end, k, t_start, t_end, f)[-1], label=\"numerical\")\n",
    "ax.set_title('Crank-Nicolson Method: k/h=1/3')\n",
    "ax.set_xlabel('x')\n",
    "ax.set_ylabel('u(x, 2)')\n",
    "ax.legend()\n",
    "plt.show()"
   ]
  },
  {
   "cell_type": "code",
   "execution_count": 142,
   "id": "b41beaf1",
   "metadata": {},
   "outputs": [
    {
     "name": "stderr",
     "output_type": "stream",
     "text": [
      "/tmp/ipykernel_6611/1266271414.py:11: RuntimeWarning: overflow encountered in true_divide\n",
      "  return (np.roll(u, 1) - (2*u) + np.roll(u, -1)) / h**2\n",
      "/tmp/ipykernel_6611/2099122024.py:11: RuntimeWarning: invalid value encountered in add\n",
      "  u = u + (k * double_diff(u, h))\n",
      "/tmp/ipykernel_6611/1266271414.py:11: RuntimeWarning: invalid value encountered in subtract\n",
      "  return (np.roll(u, 1) - (2*u) + np.roll(u, -1)) / h**2\n"
     ]
    },
    {
     "data": {
      "image/png": "[encoded data removed]",
      "text/plain": [
       "<Figure size 432x288 with 1 Axes>"
      ]
     },
     "metadata": {
      "needs_background": "light"
     },
     "output_type": "display_data"
    }
   ],
   "source": [
    "fig, ax = plt.subplots()\n",
    "ax.plot(true_x, true_sol[-1], label=\"true value\")\n",
    "ax.plot(x, forward_euler(h, x_start, x_end, k, t_start, t_end, f)[-1], label=\"numerical\")\n",
    "ax.set_title('Forward Euler Method: k/h=1/3')\n",
    "ax.set_xlabel('x')\n",
    "ax.set_ylabel('u(x, 2)')\n",
    "ax.legend()\n",
    "plt.show()"
   ]
  },
  {
   "cell_type": "code",
   "execution_count": 143,
   "id": "383cde9a",
   "metadata": {},
   "outputs": [
    {
     "ename": "ValueError",
     "evalue": "could not broadcast input array from shape (601,) into shape (2,)",
     "output_type": "error",
     "traceback": [
      "\u001b[0;31m---------------------------------------------------------------------------\u001b[0m",
      "\u001b[0;31mValueError\u001b[0m                                Traceback (most recent call last)",
      "\u001b[0;32m/tmp/ipykernel_6611/3459006256.py\u001b[0m in \u001b[0;36m<module>\u001b[0;34m\u001b[0m\n\u001b[1;32m      1\u001b[0m \u001b[0mfig\u001b[0m\u001b[0;34m,\u001b[0m \u001b[0max\u001b[0m \u001b[0;34m=\u001b[0m \u001b[0mplt\u001b[0m\u001b[0;34m.\u001b[0m\u001b[0msubplots\u001b[0m\u001b[0;34m(\u001b[0m\u001b[0;34m)\u001b[0m\u001b[0;34m\u001b[0m\u001b[0;34m\u001b[0m\u001b[0m\n\u001b[1;32m      2\u001b[0m \u001b[0max\u001b[0m\u001b[0;34m.\u001b[0m\u001b[0mplot\u001b[0m\u001b[0;34m(\u001b[0m\u001b[0mtrue_x\u001b[0m\u001b[0;34m,\u001b[0m \u001b[0mtrue_sol\u001b[0m\u001b[0;34m,\u001b[0m \u001b[0mlabel\u001b[0m\u001b[0;34m=\u001b[0m\u001b[0;34m\"true value\"\u001b[0m\u001b[0;34m)\u001b[0m\u001b[0;34m\u001b[0m\u001b[0;34m\u001b[0m\u001b[0m\n\u001b[0;32m----> 3\u001b[0;31m \u001b[0max\u001b[0m\u001b[0;34m.\u001b[0m\u001b[0mplot\u001b[0m\u001b[0;34m(\u001b[0m\u001b[0mx\u001b[0m\u001b[0;34m,\u001b[0m \u001b[0mdufort_frankel\u001b[0m\u001b[0;34m(\u001b[0m\u001b[0mh\u001b[0m\u001b[0;34m,\u001b[0m \u001b[0mx_start\u001b[0m\u001b[0;34m,\u001b[0m \u001b[0mx_end\u001b[0m\u001b[0;34m,\u001b[0m \u001b[0mk\u001b[0m\u001b[0;34m,\u001b[0m \u001b[0mt_start\u001b[0m\u001b[0;34m,\u001b[0m \u001b[0mt_end\u001b[0m\u001b[0;34m,\u001b[0m \u001b[0mf\u001b[0m\u001b[0;34m)\u001b[0m\u001b[0;34m,\u001b[0m \u001b[0mlabel\u001b[0m\u001b[0;34m=\u001b[0m\u001b[0;34m\"numerical\"\u001b[0m\u001b[0;34m)\u001b[0m\u001b[0;34m\u001b[0m\u001b[0;34m\u001b[0m\u001b[0m\n\u001b[0m\u001b[1;32m      4\u001b[0m \u001b[0max\u001b[0m\u001b[0;34m.\u001b[0m\u001b[0mset_title\u001b[0m\u001b[0;34m(\u001b[0m\u001b[0;34m'Dufort Frankel Method: k/h=1/3'\u001b[0m\u001b[0;34m)\u001b[0m\u001b[0;34m\u001b[0m\u001b[0;34m\u001b[0m\u001b[0m\n\u001b[1;32m      5\u001b[0m \u001b[0max\u001b[0m\u001b[0;34m.\u001b[0m\u001b[0mset_xlabel\u001b[0m\u001b[0;34m(\u001b[0m\u001b[0;34m'x'\u001b[0m\u001b[0;34m)\u001b[0m\u001b[0;34m\u001b[0m\u001b[0;34m\u001b[0m\u001b[0m\n",
      "\u001b[0;32m/tmp/ipykernel_6611/914642659.py\u001b[0m in \u001b[0;36mdufort_frankel\u001b[0;34m(h, x_start, x_end, k, t_start, t_end, f)\u001b[0m\n\u001b[1;32m      6\u001b[0m \u001b[0;34m\u001b[0m\u001b[0m\n\u001b[1;32m      7\u001b[0m     \u001b[0mu\u001b[0m \u001b[0;34m=\u001b[0m \u001b[0mnp\u001b[0m\u001b[0;34m.\u001b[0m\u001b[0mzeros\u001b[0m\u001b[0;34m(\u001b[0m\u001b[0;34m(\u001b[0m\u001b[0mN\u001b[0m \u001b[0;34m+\u001b[0m \u001b[0;36m1\u001b[0m\u001b[0;34m,\u001b[0m \u001b[0;36m2\u001b[0m\u001b[0;34m)\u001b[0m\u001b[0;34m)\u001b[0m\u001b[0;34m\u001b[0m\u001b[0;34m\u001b[0m\u001b[0m\n\u001b[0;32m----> 8\u001b[0;31m     \u001b[0mu\u001b[0m\u001b[0;34m[\u001b[0m\u001b[0;36m0\u001b[0m\u001b[0;34m]\u001b[0m \u001b[0;34m=\u001b[0m \u001b[0mf\u001b[0m\u001b[0;34m(\u001b[0m\u001b[0mx\u001b[0m\u001b[0;34m)\u001b[0m\u001b[0;34m\u001b[0m\u001b[0;34m\u001b[0m\u001b[0m\n\u001b[0m\u001b[1;32m      9\u001b[0m     \u001b[0mu\u001b[0m\u001b[0;34m[\u001b[0m\u001b[0;36m1\u001b[0m\u001b[0;34m]\u001b[0m \u001b[0;34m=\u001b[0m \u001b[0mu\u001b[0m\u001b[0;34m[\u001b[0m\u001b[0;36m0\u001b[0m\u001b[0;34m]\u001b[0m \u001b[0;34m+\u001b[0m \u001b[0;34m(\u001b[0m\u001b[0mk\u001b[0m \u001b[0;34m*\u001b[0m \u001b[0mdouble_diff\u001b[0m\u001b[0;34m(\u001b[0m\u001b[0mu\u001b[0m\u001b[0;34m[\u001b[0m\u001b[0;36m0\u001b[0m\u001b[0;34m]\u001b[0m\u001b[0;34m,\u001b[0m \u001b[0mh\u001b[0m\u001b[0;34m)\u001b[0m\u001b[0;34m)\u001b[0m\u001b[0;34m\u001b[0m\u001b[0;34m\u001b[0m\u001b[0m\n\u001b[1;32m     10\u001b[0m \u001b[0;34m\u001b[0m\u001b[0m\n",
      "\u001b[0;31mValueError\u001b[0m: could not broadcast input array from shape (601,) into shape (2,)"
     ]
    },
    {
     "data": {
      "image/png": "[encoded data removed]",
      "text/plain": [
       "<Figure size 432x288 with 1 Axes>"
      ]
     },
     "metadata": {
      "needs_background": "light"
     },
     "output_type": "display_data"
    }
   ],
   "source": [
    "fig, ax = plt.subplots()\n",
    "ax.plot(true_x, true_sol[-1], label=\"true value\")\n",
    "ax.plot(x, dufort_frankel(h, x_start, x_end, k, t_start, t_end, f)[-1], label=\"numerical\")\n",
    "ax.set_title('Dufort Frankel Method: k/h=1/3')\n",
    "ax.set_xlabel('x')\n",
    "ax.set_ylabel('u(x, 2)')\n",
    "ax.legend()\n",
    "plt.show()"
   ]
  },
  {
   "cell_type": "markdown",
   "id": "d05b8042",
   "metadata": {},
   "source": [
    "## Problem 5\n",
    "\n",
    "In this problem you will study a nonlinear convection diffusion equation. Consider the problem viscid Burger's equation.\n",
    "\n",
    "$$\n",
    "\\begin{align}\n",
    "u_t(x,t)+ (\\frac{1}{2}u^2)_x =& \\eta u_{xx}(x,t)   \\quad  &&  -\\infty < x< \\infty ,\n",
    "t>0, \\\\\n",
    "u(x,0)=&f(x)  \\quad &&  -\\infty < x< \\infty\n",
    "\\end{align}\n",
    "$$\n",
    "\n",
    "where $f$ is $2\\pi$ periodic. Note that $(\\frac{1}{2}u^2)_x= u u_x$.\n",
    "\n",
    "We will consider a fully-implicit method:\n",
    "\n",
    "$$\n",
    "(I- \\eta k D_+ D_{-}) v_j^{n+1}= v_j^n - \\frac{\\lambda}{2} v_j^n (v_{j+1}^{n} -\n",
    "v_{j-1}^{n})\n",
    "$$\n",
    "\n",
    "Note that in this problem you will have the same matrix to invert in each step (so should invert only once) but with different right-hand sides.\n",
    "\n",
    "Test both methods with $\\lambda \\approx 1/3$ and $h=1/100$ and $\\eta=1$ for $T=50$ with initial condition $f(x)=x-\\pi$. Which method was faster? Now repeat the problem when $\\eta=0.005$. Did any of the methods do well in this case?"
   ]
  },
  {
   "cell_type": "markdown",
   "id": "a477c895",
   "metadata": {},
   "source": [
    "## Problem 6\n",
    "\n",
    "Consider the second-order wave equation\n",
    "\n",
    "$$\n",
    "\\begin{alignat*}{2}\n",
    "\\partial_t^2 u(x,t)=& c^2 \\partial_x^2 u (x,t)   \\quad  &&  -\\infty < x< \\infty , \n",
    "t>0, \\\\\n",
    "u(x,0)=&f(x)  \\quad &&  -\\infty < x< \\infty,  \\\\\n",
    "\\partial_t u(x,0)=&g(x)  \\quad &&  -\\infty < x< \\infty,\n",
    "\\end{alignat*}\n",
    "$$\n",
    "\n",
    "where $f$ and $g$ are $2\\pi$ periodic.\n",
    "\n",
    "In this problem you will compare the performance of two methods. The first one is the leap frog method given in class. The second one is the Newmark method. The idea behind the Newmark method is to define a new variable  $q=\\partial_t u$. Then, the equivalent system is  \n",
    "\n",
    "$$\n",
    "\\begin{alignat*}{2}\n",
    "\\partial_t q(x,t)=& c^2 \\partial_x^2 u (x,t)   \\quad  &&  -\\infty < x< \\infty , \n",
    "t>0, \\\\\n",
    "q(x,t) =& \\partial_t u(x,t)  \\quad  &&  -\\infty < x< \\infty , t>0, \\\\\n",
    "u(x,0)=&f(x)  \\quad &&  -\\infty < x< \\infty,  \\\\\n",
    "q(x,0)=&g(x)  \\quad &&  -\\infty < x< \\infty. \n",
    "\\end{alignat*}\n",
    "$$\n",
    "\n",
    "The numerical method reads \n",
    "\n",
    "$$\n",
    "\\begin{alignat*}{2}\n",
    "w_j^{n+1}=& w_j^n + \\frac{kc^2}{2} D_{+} D_{-} (u_j^{n+1}+u_j^n)   \\quad  &&   \\\\\n",
    "\\frac{w_j^{n+1}+w_j^n}{2} =& \\frac{u_j^{n+1} -u_j^n}{k}  \\quad  && \\\\\n",
    "u_j^0=&f_j  \\quad &&   \\\\\n",
    "w_j^0=&g_j  \\quad && \n",
    "\\end{alignat*}\n",
    "$$\n",
    "\n",
    "Impement the two methods with $c=1$ and $f(x)= \\sin(x)$ and $g(x)= \\cos(x)$. Run until time $T=1$ and choose $\\frac{k}{h}\\approx \\frac{1}{2}$ and  $\\frac{k}{h} \\approx 2$ while setting $h=1/100$. Plot solutions at time $T=1$. Does one method seem to do better than the other? "
   ]
  }
 ],
 "metadata": {
  "kernelspec": {
   "display_name": "Python 3 (ipykernel)",
   "language": "python",
   "name": "python3"
  },
  "language_info": {
   "codemirror_mode": {
    "name": "ipython",
    "version": 3
   },
   "file_extension": ".py",
   "mimetype": "text/x-python",
   "name": "python",
   "nbconvert_exporter": "python",
   "pygments_lexer": "ipython3",
   "version": "3.9.7"
  }
 },
 "nbformat": 4,
 "nbformat_minor": 5
}
